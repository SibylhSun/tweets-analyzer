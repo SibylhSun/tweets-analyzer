{
 "cells": [
  {
   "cell_type": "code",
   "execution_count": 26,
   "metadata": {},
   "outputs": [],
   "source": [
    "# pip install pandas\n",
    "# pip install tweepy"
   ]
  },
  {
   "cell_type": "markdown",
   "metadata": {},
   "source": [
    "# Part 1: Load Data"
   ]
  },
  {
   "cell_type": "code",
   "execution_count": 27,
   "metadata": {},
   "outputs": [],
   "source": [
    "import pandas as pd\n",
    "from tweets_analyzer import TweetsAnalyzer  \n",
    "import warnings \n",
    "  \n",
    "# Settings the warnings to be ignored \n",
    "warnings.filterwarnings('ignore') \n",
    "\n",
    "# Load your data into a DataFrame\n",
    "df = pd.read_csv('data/Copy of correct_twitter_201904.tsv', sep='\\t')\n",
    "\n",
    "# Define the search term you want to analyze\n",
    "search_term = 'music'\n",
    "\n",
    "# Initialize the TweetsAnalyzer with the DataFrame and search term\n",
    "analyzer = TweetsAnalyzer(df, search_term)"
   ]
  },
  {
   "cell_type": "markdown",
   "metadata": {},
   "source": [
    "# Part 2： Query Data "
   ]
  },
  {
   "cell_type": "markdown",
   "metadata": {},
   "source": [
    "## 2.1 How many tweets were posted containing the term on each day?"
   ]
  },
  {
   "cell_type": "code",
   "execution_count": 28,
   "metadata": {},
   "outputs": [
    {
     "name": "stdout",
     "output_type": "stream",
     "text": [
      "Number of tweets posted containing the term on each day:\n",
      "created_at_date\n",
      "2019-03-12      1\n",
      "2019-04-06      1\n",
      "2019-04-14      1\n",
      "2019-04-16      1\n",
      "2019-04-24      1\n",
      "2019-04-26      1\n",
      "2019-04-27      3\n",
      "2019-04-28     17\n",
      "2019-04-29     41\n",
      "2019-04-30     38\n",
      "2019-05-01     44\n",
      "2019-05-02     50\n",
      "2019-05-03     51\n",
      "2019-05-04     36\n",
      "2019-05-05     49\n",
      "2019-05-06     40\n",
      "2019-05-07     34\n",
      "2019-05-08     39\n",
      "2019-05-09     47\n",
      "2019-05-10    281\n",
      "2019-05-11     44\n",
      "2019-05-12     40\n",
      "2019-05-13     29\n",
      "2019-05-14     41\n",
      "2019-05-15     68\n",
      "2019-05-16     61\n",
      "2019-05-17    134\n",
      "2019-05-18     46\n",
      "2019-05-19     26\n",
      "2019-05-20     44\n",
      "2019-05-21    101\n",
      "2019-05-22     65\n",
      "2019-05-23     56\n",
      "2019-05-24     33\n",
      "2019-05-25     48\n",
      "2019-05-26     97\n",
      "2019-05-27     47\n",
      "2019-05-28     76\n",
      "2019-05-29    149\n",
      "2019-05-30     48\n",
      "2019-05-31      9\n",
      "Name: text, dtype: int64\n"
     ]
    }
   ],
   "source": [
    "print(\"Number of tweets posted containing the term on each day:\")\n",
    "print(analyzer.count_tweets_with_term_by_date())\n",
    "# Uncomment the below code and save the output to a csv file if needed\n",
    "# analyzer.count_tweets_with_term_by_date().to_csv('output/q1.csv')"
   ]
  },
  {
   "cell_type": "markdown",
   "metadata": {},
   "source": [
    "## 2.2 How many unique users posted a tweet containing the term?"
   ]
  },
  {
   "cell_type": "code",
   "execution_count": 29,
   "metadata": {},
   "outputs": [
    {
     "name": "stdout",
     "output_type": "stream",
     "text": [
      "\n",
      "Count of unique users who posted with the term:\n",
      "1563\n"
     ]
    }
   ],
   "source": [
    "print(\"\\nCount of unique users who posted with the term:\")\n",
    "print(analyzer.count_of_users_posted_with_term())\n"
   ]
  },
  {
   "cell_type": "markdown",
   "metadata": {},
   "source": [
    "## 2.3 How many likes did tweets containing the term get, on average?"
   ]
  },
  {
   "cell_type": "code",
   "execution_count": 30,
   "metadata": {},
   "outputs": [
    {
     "name": "stdout",
     "output_type": "stream",
     "text": [
      "\n",
      "Average likes per tweet with the term:\n",
      "234.05348380765457\n"
     ]
    }
   ],
   "source": [
    "print(\"\\nAverage likes per tweet with the term:\")\n",
    "print(analyzer.count_of_likes_with_term())\n"
   ]
  },
  {
   "cell_type": "markdown",
   "metadata": {},
   "source": [
    "## 2.4 Where (in terms of place IDs) did the tweets come from?"
   ]
  },
  {
   "cell_type": "code",
   "execution_count": 31,
   "metadata": {},
   "outputs": [],
   "source": [
    "# Replace line 76-79 of get_place() method in tweets_analyzer.py with your own credentials from twitter\n",
    "print(\"\\nPlace details for tweets with the term:\")\n",
    "print(analyzer.get_place())\n"
   ]
  },
  {
   "cell_type": "markdown",
   "metadata": {},
   "source": [
    "## 2.5 What times of day were the tweets posted at? "
   ]
  },
  {
   "cell_type": "code",
   "execution_count": 32,
   "metadata": {},
   "outputs": [
    {
     "name": "stdout",
     "output_type": "stream",
     "text": [
      "\n",
      "Time each tweet was posted with the term:\n",
      "                        id      time\n",
      "89     1131558142569959424  13:50:59\n",
      "191    1134153062384357378  17:42:16\n",
      "275    1130933441191710720  20:28:38\n",
      "339    1129818710095613952  18:39:06\n",
      "341    1128705303862808577  16:54:49\n",
      "...                    ...       ...\n",
      "87806  1122542818692669442  16:47:18\n",
      "87851  1122537778590306305  16:27:16\n",
      "87870  1122541665238036481  16:42:43\n",
      "87938  1122967569126739968  20:55:06\n",
      "88020  1122955608356007936  20:07:35\n",
      "\n",
      "[2038 rows x 2 columns]\n"
     ]
    }
   ],
   "source": [
    "print(\"\\nTime each tweet was posted with the term:\")\n",
    "print(analyzer.time_tweet_posted())\n",
    "# Uncomment the below code and save the output to a csv file if needed\n",
    "# analyzer.time_tweet_posted().to_csv('output/q5.csv')"
   ]
  },
  {
   "cell_type": "markdown",
   "metadata": {},
   "source": [
    "## 2.6 Which user posted the most tweets containing the term?"
   ]
  },
  {
   "cell_type": "code",
   "execution_count": 33,
   "metadata": {},
   "outputs": [
    {
     "name": "stdout",
     "output_type": "stream",
     "text": [
      "\n",
      "The user posted the most tweets containing the term is:\n",
      "{'author_id': 118301422}\n"
     ]
    }
   ],
   "source": [
    "print(\"\\nThe user posted the most tweets containing the term is:\")\n",
    "print(analyzer.user_posted_most_term())"
   ]
  },
  {
   "cell_type": "code",
   "execution_count": null,
   "metadata": {},
   "outputs": [],
   "source": []
  }
 ],
 "metadata": {
  "kernelspec": {
   "display_name": "base",
   "language": "python",
   "name": "python3"
  },
  "language_info": {
   "codemirror_mode": {
    "name": "ipython",
    "version": 3
   },
   "file_extension": ".py",
   "mimetype": "text/x-python",
   "name": "python",
   "nbconvert_exporter": "python",
   "pygments_lexer": "ipython3",
   "version": "3.12.4"
  }
 },
 "nbformat": 4,
 "nbformat_minor": 2
}
